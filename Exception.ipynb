{
  "nbformat": 4,
  "nbformat_minor": 0,
  "metadata": {
    "colab": {
      "name": "Untitled2.ipynb",
      "provenance": [],
      "authorship_tag": "ABX9TyNcK8I9tuy5Bb0IlCtXdNGb",
      "include_colab_link": true
    },
    "kernelspec": {
      "name": "python3",
      "display_name": "Python 3"
    },
    "language_info": {
      "name": "python"
    }
  },
  "cells": [
    {
      "cell_type": "markdown",
      "metadata": {
        "id": "view-in-github",
        "colab_type": "text"
      },
      "source": [
        "<a href=\"https://colab.research.google.com/github/shimossa/my_first_repo/blob/main/Exception.ipynb\" target=\"_parent\"><img src=\"https://colab.research.google.com/assets/colab-badge.svg\" alt=\"Open In Colab\"/></a>"
      ]
    },
    {
      "cell_type": "code",
      "metadata": {
        "colab": {
          "base_uri": "https://localhost:8080/"
        },
        "id": "ZDl9LhGJ-Xok",
        "outputId": "b3719f08-6b79-4aa0-d229-f1c2c93f87cb"
      },
      "source": [
        "try:\n",
        "  num1 = int(input(\"Please input a number: \"))\n",
        "  num2 = int(input(\"Please input another number: \"))\n",
        "  print(\"num1 divided by Num2 is\" + str(num1/num2))\n",
        "except TypeError as e:\n",
        "  print(e)\n",
        "except ValueError as e:\n",
        "  print(\"Please only type in single digits\")\n",
        "except ZeroDivisionError:\n",
        "  print(\"Division by Zero breaks the world\")"
      ],
      "execution_count": 8,
      "outputs": [
        {
          "output_type": "stream",
          "name": "stdout",
          "text": [
            "Please input a number: 11\n",
            "Please input another number: 0\n",
            "Division by Zero breaks the world\n"
          ]
        }
      ]
    },
    {
      "cell_type": "code",
      "metadata": {
        "colab": {
          "base_uri": "https://localhost:8080/"
        },
        "id": "WN8OvpKM-qp2",
        "outputId": "296b3218-43a8-4f2e-a868-e345f20ffae5"
      },
      "source": [
        "try:\n",
        "  num1 = int(input(\"Please input a number: \"))\n",
        "  num2 = int(input(\"Please input another number: \"))\n",
        "  print(\"num1 divided by Num2 is\" + str(num1/num2))\n",
        "except Exception as e:\n",
        "  print(e)"
      ],
      "execution_count": 13,
      "outputs": [
        {
          "output_type": "stream",
          "name": "stdout",
          "text": [
            "Please input a number: 11\n",
            "Please input another number: 2\n",
            "num1 divided by Num2 is5.5\n"
          ]
        }
      ]
    },
    {
      "cell_type": "code",
      "metadata": {
        "id": "1fb9Eo6IA18v"
      },
      "source": [
        ""
      ],
      "execution_count": null,
      "outputs": []
    }
  ]
}