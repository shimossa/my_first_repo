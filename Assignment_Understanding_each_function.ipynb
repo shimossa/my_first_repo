{
  "nbformat": 4,
  "nbformat_minor": 0,
  "metadata": {
    "colab": {
      "name": "Assignment_Understanding each function.ipynb",
      "provenance": [],
      "collapsed_sections": [],
      "authorship_tag": "ABX9TyNGwhlU8PHfizQc7QXRsi2T",
      "include_colab_link": true
    },
    "kernelspec": {
      "name": "python3",
      "display_name": "Python 3"
    },
    "language_info": {
      "name": "python"
    }
  },
  "cells": [
    {
      "cell_type": "markdown",
      "metadata": {
        "id": "view-in-github",
        "colab_type": "text"
      },
      "source": [
        "<a href=\"https://colab.research.google.com/github/shimossa/my_first_repo/blob/main/Assignment_Understanding_each_function.ipynb\" target=\"_parent\"><img src=\"https://colab.research.google.com/assets/colab-badge.svg\" alt=\"Open In Colab\"/></a>"
      ]
    },
    {
      "cell_type": "code",
      "metadata": {
        "id": "VyDi0iJWh8oU"
      },
      "source": [
        "!pip install kora -q\n",
        "\n",
        "from bs4 import BeautifulSoup\n",
        "from kora.selenium import wd\n",
        "import pandas as pd"
      ],
      "execution_count": 1,
      "outputs": []
    },
    {
      "cell_type": "code",
      "metadata": {
        "id": "RjL6Xx6pgwAb"
      },
      "source": [
        "def retreive_url():\n",
        "  #Input that will allow user to specify the listed company\n",
        "  ticker = input(\"Please input the ticker in which you wish you query: \")\n",
        "  print(ticker)\n",
        "  \n",
        "  #The URL that will be generated based on the ticker that is entered\n",
        "  retrieved_url = 'https://au.finance.yahoo.com/quote/{}/profile?p={}'\n",
        "  result = retrieved_url.format(ticker,ticker)\n",
        "  return result"
      ],
      "execution_count": 2,
      "outputs": []
    },
    {
      "cell_type": "code",
      "metadata": {
        "id": "4qu1od_2tAcM"
      },
      "source": [
        " def row_capture(row):\n",
        "  #Specifies what in the HTML to capture for the program \n",
        "  cells = row.find_all('td')\n",
        "  name = cells[0].text\n",
        "  title = cells[1].text\n",
        "  pay = cells[2].text\n",
        "  return {'Name': name, 'Title': title, 'Pay': pay}"
      ],
      "execution_count": 30,
      "outputs": []
    },
    {
      "cell_type": "code",
      "metadata": {
        "id": "qbVgbuWJsNWL"
      },
      "source": [
        "def retrieve_executive_records(soup):\n",
        "  #Specifies where in the HTML code that the program should look for the table\n",
        "  table = soup.find('table')\n",
        "  body = table.find('tbody')\n",
        "  rows = body.find_all('tr')\n",
        "\n",
        "#Enables the table to \n",
        "  exec_records = []\n",
        "  for row in rows:\n",
        "    result = row_capture(row)\n",
        "    exec_records.append(result)\n",
        "  return exec_records"
      ],
      "execution_count": 38,
      "outputs": []
    },
    {
      "cell_type": "code",
      "metadata": {
        "colab": {
          "base_uri": "https://localhost:8080/"
        },
        "id": "DHLn6o2r3PaS",
        "outputId": "f6a56ba0-65b0-410d-cc91-06085304b36b"
      },
      "source": [
        "url = retreive_url()\n",
        "wd.get(url)\n",
        "soup = BeautifulSoup(wd.page_source, \"html.parser\")\n",
        "records = retrieve_executive_records(soup)\n",
        "len(records)"
      ],
      "execution_count": 42,
      "outputs": [
        {
          "output_type": "stream",
          "name": "stdout",
          "text": [
            "Please input the ticker in which you wish you query: TLS.AX\n",
            "TLS.AX\n"
          ]
        },
        {
          "output_type": "execute_result",
          "data": {
            "text/plain": [
              "10"
            ]
          },
          "metadata": {},
          "execution_count": 42
        }
      ]
    },
    {
      "cell_type": "code",
      "metadata": {
        "id": "-bXTloBQ7Khj"
      },
      "source": [
        ""
      ],
      "execution_count": null,
      "outputs": []
    }
  ]
}