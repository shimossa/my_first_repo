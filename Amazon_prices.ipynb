{
  "nbformat": 4,
  "nbformat_minor": 0,
  "metadata": {
    "colab": {
      "name": "Amazon_prices.ipynb",
      "provenance": [],
      "include_colab_link": true
    },
    "kernelspec": {
      "name": "python3",
      "display_name": "Python 3"
    },
    "language_info": {
      "name": "python"
    }
  },
  "cells": [
    {
      "cell_type": "markdown",
      "metadata": {
        "id": "view-in-github",
        "colab_type": "text"
      },
      "source": [
        "<a href=\"https://colab.research.google.com/github/shimossa/my_first_repo/blob/main/Amazon_prices.ipynb\" target=\"_parent\"><img src=\"https://colab.research.google.com/assets/colab-badge.svg\" alt=\"Open In Colab\"/></a>"
      ]
    },
    {
      "cell_type": "code",
      "metadata": {
        "id": "nAphLm9Vlzo5",
        "colab": {
          "base_uri": "https://localhost:8080/"
        },
        "outputId": "28b42dc5-76aa-451d-9f29-12595cfdebb9"
      },
      "source": [
        "!pip install kora -q\n",
        "'''load packages'''\n",
        "import requests\n",
        "from bs4 import BeautifulSoup #install packages\n",
        "from kora.selenium import wd #get web driver "
      ],
      "execution_count": null,
      "outputs": [
        {
          "output_type": "stream",
          "name": "stdout",
          "text": [
            "\u001b[?25l\r\u001b[K     |█████▊                          | 10 kB 20.9 MB/s eta 0:00:01\r\u001b[K     |███████████▍                    | 20 kB 27.2 MB/s eta 0:00:01\r\u001b[K     |█████████████████               | 30 kB 16.7 MB/s eta 0:00:01\r\u001b[K     |██████████████████████▊         | 40 kB 12.0 MB/s eta 0:00:01\r\u001b[K     |████████████████████████████▍   | 51 kB 5.4 MB/s eta 0:00:01\r\u001b[K     |████████████████████████████████| 57 kB 2.8 MB/s \n",
            "\u001b[?25h\u001b[?25l\r\u001b[K     |█████▉                          | 10 kB 26.6 MB/s eta 0:00:01\r\u001b[K     |███████████▊                    | 20 kB 36.1 MB/s eta 0:00:01\r\u001b[K     |█████████████████▌              | 30 kB 39.3 MB/s eta 0:00:01\r\u001b[K     |███████████████████████▍        | 40 kB 22.9 MB/s eta 0:00:01\r\u001b[K     |█████████████████████████████▎  | 51 kB 25.8 MB/s eta 0:00:01\r\u001b[K     |████████████████████████████████| 56 kB 3.7 MB/s \n",
            "\u001b[?25h"
          ]
        }
      ]
    },
    {
      "cell_type": "code",
      "metadata": {
        "id": "Jyp2DYzImzk-"
      },
      "source": [
        "# Establish Session\n",
        "url = 'https://www.amazon.com.au'\n",
        "wd.get(url)"
      ],
      "execution_count": null,
      "outputs": []
    },
    {
      "cell_type": "code",
      "metadata": {
        "id": "DCZLhnslm9Nm"
      },
      "source": [
        "def get_url(search_term):\n",
        "  template = 'https://www.amazon.com/s?k={}&crid=4JI6DEULMWP9&sprefix=mechanical+key%2Caps%2C407&ref=nb_sb_ss_ts-doa-p_2_14'\n",
        "  search_term = input(\"What to search for? \")\n",
        "  search_term = search_term.replace(' ', '+')\n",
        "  url = template.format(search_term)\n",
        "  return url"
      ],
      "execution_count": null,
      "outputs": []
    },
    {
      "cell_type": "code",
      "metadata": {
        "id": "AQz3cNSMnA-E"
      },
      "source": [
        ""
      ],
      "execution_count": null,
      "outputs": []
    },
    {
      "cell_type": "code",
      "metadata": {
        "id": "MT7rDgkAn2u9"
      },
      "source": [
        ""
      ],
      "execution_count": null,
      "outputs": []
    },
    {
      "cell_type": "code",
      "metadata": {
        "id": "IFVLuMHtoBep"
      },
      "source": [
        ""
      ],
      "execution_count": null,
      "outputs": []
    },
    {
      "cell_type": "markdown",
      "metadata": {
        "id": "h4ee8kjVoYB3"
      },
      "source": [
        "# Extract the Collection"
      ]
    },
    {
      "cell_type": "code",
      "metadata": {
        "id": "9FVKD7tYoaWi"
      },
      "source": [
        ""
      ],
      "execution_count": null,
      "outputs": []
    },
    {
      "cell_type": "code",
      "metadata": {
        "id": "anR8Mto_olFI"
      },
      "source": [
        ""
      ],
      "execution_count": null,
      "outputs": []
    },
    {
      "cell_type": "code",
      "metadata": {
        "colab": {
          "base_uri": "https://localhost:8080/"
        },
        "id": "7SbZ48oPsNFk",
        "outputId": "63e0eae6-1b88-4dcf-e154-d200530d9873"
      },
      "source": [
        ""
      ],
      "execution_count": null,
      "outputs": [
        {
          "output_type": "execute_result",
          "data": {
            "text/plain": [
              "48"
            ]
          },
          "metadata": {},
          "execution_count": 22
        }
      ]
    },
    {
      "cell_type": "markdown",
      "metadata": {
        "id": "1XWF5LHBsjlJ"
      },
      "source": [
        "# Prototype the record"
      ]
    },
    {
      "cell_type": "code",
      "metadata": {
        "id": "cC0bk72XsQ-V"
      },
      "source": [
        ""
      ],
      "execution_count": null,
      "outputs": []
    },
    {
      "cell_type": "code",
      "metadata": {
        "id": "jESVEqVVsyuA"
      },
      "source": [
        ""
      ],
      "execution_count": null,
      "outputs": []
    },
    {
      "cell_type": "code",
      "metadata": {
        "id": "iO16HydCs3zv"
      },
      "source": [
        ""
      ],
      "execution_count": null,
      "outputs": []
    },
    {
      "cell_type": "code",
      "metadata": {
        "id": "64GHbNF8s734"
      },
      "source": [
        ""
      ],
      "execution_count": null,
      "outputs": []
    },
    {
      "cell_type": "code",
      "metadata": {
        "id": "fBB-xo7HtIsm"
      },
      "source": [
        ""
      ],
      "execution_count": null,
      "outputs": []
    },
    {
      "cell_type": "code",
      "metadata": {
        "id": "4QZ_hBYRtxny"
      },
      "source": [
        ""
      ],
      "execution_count": null,
      "outputs": []
    },
    {
      "cell_type": "code",
      "metadata": {
        "id": "LhWHC-W7t3mH"
      },
      "source": [
        ""
      ],
      "execution_count": null,
      "outputs": []
    },
    {
      "cell_type": "code",
      "metadata": {
        "id": "BfmPYjmRuMwU"
      },
      "source": [
        ""
      ],
      "execution_count": null,
      "outputs": []
    },
    {
      "cell_type": "markdown",
      "metadata": {
        "id": "bQK8lneQvDxO"
      },
      "source": [
        "# Generalize the pattern"
      ]
    },
    {
      "cell_type": "code",
      "metadata": {
        "id": "gF3DcIRRvHnP"
      },
      "source": [
        ""
      ],
      "execution_count": null,
      "outputs": []
    },
    {
      "cell_type": "code",
      "metadata": {
        "id": "QqKbxj1kwcYc"
      },
      "source": [
        "records = []\n",
        "results = soup.find_all('div', {'data-component-type': 's-search-result'})\n",
        "\n",
        "for item in results:\n",
        "  records.append(extract_record(item))"
      ],
      "execution_count": null,
      "outputs": []
    },
    {
      "cell_type": "markdown",
      "metadata": {
        "id": "_ZRk5fnhxeRZ"
      },
      "source": [
        "# Error Handling"
      ]
    },
    {
      "cell_type": "code",
      "metadata": {
        "id": "vkIT_BNUxFvl"
      },
      "source": [
        "\n"
      ],
      "execution_count": null,
      "outputs": []
    },
    {
      "cell_type": "code",
      "metadata": {
        "id": "pYKIDlY0x64Y"
      },
      "source": [
        ""
      ],
      "execution_count": null,
      "outputs": []
    },
    {
      "cell_type": "code",
      "metadata": {
        "id": "phNc9nIpyImi"
      },
      "source": [
        ""
      ],
      "execution_count": null,
      "outputs": []
    },
    {
      "cell_type": "markdown",
      "metadata": {
        "id": "TGU8ZMgxyaWt"
      },
      "source": [
        "# Find next page"
      ]
    },
    {
      "cell_type": "code",
      "metadata": {
        "id": "7JzOCBBRyd5B"
      },
      "source": [
        ""
      ],
      "execution_count": null,
      "outputs": []
    },
    {
      "cell_type": "markdown",
      "metadata": {
        "id": "FanXzdQm2SHO"
      },
      "source": [
        "# Putting it all together"
      ]
    },
    {
      "cell_type": "code",
      "metadata": {
        "id": "sP0evzCj2O2d"
      },
      "source": [
        ""
      ],
      "execution_count": null,
      "outputs": []
    },
    {
      "cell_type": "code",
      "metadata": {
        "id": "SmzW9RwEASoq"
      },
      "source": [
        "df = amonzon_as_dataframe(\"ultrawide monitor\")"
      ],
      "execution_count": null,
      "outputs": []
    },
    {
      "cell_type": "code",
      "metadata": {
        "colab": {
          "base_uri": "https://localhost:8080/",
          "height": 205
        },
        "id": "BF-zepIwAetK",
        "outputId": "913587a4-9576-4ba3-b82f-0f8d5f419086"
      },
      "source": [
        "df.head()"
      ],
      "execution_count": null,
      "outputs": [
        {
          "output_type": "execute_result",
          "data": {
            "text/html": [
              "<div>\n",
              "<style scoped>\n",
              "    .dataframe tbody tr th:only-of-type {\n",
              "        vertical-align: middle;\n",
              "    }\n",
              "\n",
              "    .dataframe tbody tr th {\n",
              "        vertical-align: top;\n",
              "    }\n",
              "\n",
              "    .dataframe thead th {\n",
              "        text-align: right;\n",
              "    }\n",
              "</style>\n",
              "<table border=\"1\" class=\"dataframe\">\n",
              "  <thead>\n",
              "    <tr style=\"text-align: right;\">\n",
              "      <th></th>\n",
              "      <th>description</th>\n",
              "      <th>url</th>\n",
              "      <th>price</th>\n",
              "      <th>rating</th>\n",
              "      <th>review_count</th>\n",
              "    </tr>\n",
              "  </thead>\n",
              "  <tbody>\n",
              "    <tr>\n",
              "      <th>0</th>\n",
              "      <td>Gigabyte G34WQC 34\" 144Hz QHD 1ms Ultra-Wide C...</td>\n",
              "      <td>https://www.amazon.com.au/Gigabyte-G34WQC-Ultr...</td>\n",
              "      <td>$771.44</td>\n",
              "      <td>4.4 out of 5 stars</td>\n",
              "      <td>198</td>\n",
              "    </tr>\n",
              "    <tr>\n",
              "      <th>1</th>\n",
              "      <td>LG 25UM58-P 25-Inch 21:9 UltraWide IPS Monitor...</td>\n",
              "      <td>https://www.amazon.com.au/LG-25UM58-P-25-Inch-...</td>\n",
              "      <td>$279.00</td>\n",
              "      <td>4.5 out of 5 stars</td>\n",
              "      <td>4,183</td>\n",
              "    </tr>\n",
              "    <tr>\n",
              "      <th>2</th>\n",
              "      <td>Dell S3221QS 32 Inch Curved 4K UHD Monitor, VA...</td>\n",
              "      <td>https://www.amazon.com.au/S3221QS-Ultra-Thin-F...</td>\n",
              "      <td>$613.28</td>\n",
              "      <td>4.6 out of 5 stars</td>\n",
              "      <td>659</td>\n",
              "    </tr>\n",
              "    <tr>\n",
              "      <th>3</th>\n",
              "      <td>BenQ 32 inch 144 Hz Curved Gaming Monitor ( EX...</td>\n",
              "      <td>https://www.amazon.com.au/BenQ-EX3203R-FreeSyn...</td>\n",
              "      <td>$752.12</td>\n",
              "      <td>4.5 out of 5 stars</td>\n",
              "      <td>11,215</td>\n",
              "    </tr>\n",
              "    <tr>\n",
              "      <th>4</th>\n",
              "      <td>VIVO 17 to 43 inch Aluminum Single Ultrawide M...</td>\n",
              "      <td>https://www.amazon.com.au/VIVO-Ultrawide-Artic...</td>\n",
              "      <td>$153.60</td>\n",
              "      <td>4.4 out of 5 stars</td>\n",
              "      <td>174</td>\n",
              "    </tr>\n",
              "  </tbody>\n",
              "</table>\n",
              "</div>"
            ],
            "text/plain": [
              "                                         description  ... review_count\n",
              "0  Gigabyte G34WQC 34\" 144Hz QHD 1ms Ultra-Wide C...  ...          198\n",
              "1  LG 25UM58-P 25-Inch 21:9 UltraWide IPS Monitor...  ...        4,183\n",
              "2  Dell S3221QS 32 Inch Curved 4K UHD Monitor, VA...  ...          659\n",
              "3  BenQ 32 inch 144 Hz Curved Gaming Monitor ( EX...  ...       11,215\n",
              "4  VIVO 17 to 43 inch Aluminum Single Ultrawide M...  ...          174\n",
              "\n",
              "[5 rows x 5 columns]"
            ]
          },
          "metadata": {},
          "execution_count": 41
        }
      ]
    },
    {
      "cell_type": "code",
      "metadata": {
        "id": "sOFfhTFDDpto"
      },
      "source": [
        ""
      ],
      "execution_count": null,
      "outputs": []
    }
  ]
}